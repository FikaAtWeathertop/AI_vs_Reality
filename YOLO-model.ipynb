{
 "cells": [
  {
   "cell_type": "code",
   "execution_count": null,
   "metadata": {},
   "outputs": [],
   "source": [
    "from PIL import Image\n",
    "import os\n",
    "\n",
    "# Define the root directory where your images are stored\n",
    "root_dir = \"/Users/hjalle/Desktop/Skola/Maskininlarning/projekt/datasets\"\n",
    "\n",
    "# Supported image formats\n",
    "valid_extensions = (\".png\", \".jpg\", \".jpeg\")\n",
    "\n",
    "# Loop through all subdirectories\n",
    "for subdir, _, files in os.walk(root_dir):\n",
    "    for file in files:\n",
    "        if file.lower().endswith(valid_extensions):  # Check if file is an image\n",
    "            file_path = os.path.join(subdir, file)\n",
    "\n",
    "            try:\n",
    "                # Open image\n",
    "                with Image.open(file_path) as img:\n",
    "                    # Convert to RGB if not already\n",
    "                    rgb_img = img.convert(\"RGB\")\n",
    "                    \n",
    "                    # Save (overwrite the original file)\n",
    "                    rgb_img.save(file_path)\n",
    "                    print(f\"Converted and saved: {file_path}\")\n",
    "\n",
    "            except Exception as e:\n",
    "                print(f\"Failed to process {file_path}: {e}\")\n",
    "\n",
    "print(\"Image conversion complete!\")\n"
   ]
  },
  {
   "cell_type": "code",
   "execution_count": 107,
   "metadata": {},
   "outputs": [
    {
     "name": "stdout",
     "output_type": "stream",
     "text": [
      "New https://pypi.org/project/ultralytics/8.3.91 available 😃 Update with 'pip install -U ultralytics'\n",
      "Ultralytics 8.3.87 🚀 Python-3.11.6 torch-2.6.0 CPU (Apple M1 Pro)\n",
      "\u001b[34m\u001b[1mengine/trainer: \u001b[0mtask=classify, mode=train, model=yolov8s-cls.pt, data=/Users/hjalle/Desktop/Skola/Maskininlarning/projekt/datasets/, epochs=30, time=None, patience=100, batch=16, imgsz=256, save=True, save_period=-1, cache=False, device=cpu, workers=8, project=None, name=train4, exist_ok=False, pretrained=True, optimizer=auto, verbose=True, seed=0, deterministic=True, single_cls=False, rect=False, cos_lr=False, close_mosaic=10, resume=False, amp=True, fraction=1.0, profile=False, freeze=None, multi_scale=False, overlap_mask=True, mask_ratio=4, dropout=0.0, val=True, split=val, save_json=False, save_hybrid=False, conf=None, iou=0.7, max_det=300, half=False, dnn=False, plots=True, source=None, vid_stride=1, stream_buffer=False, visualize=False, augment=False, agnostic_nms=False, classes=None, retina_masks=False, embed=None, show=False, save_frames=False, save_txt=False, save_conf=False, save_crop=False, show_labels=True, show_conf=True, show_boxes=True, line_width=None, format=torchscript, keras=False, optimize=False, int8=False, dynamic=False, simplify=True, opset=None, workspace=None, nms=False, lr0=0.0005, lrf=0.01, momentum=0.9, weight_decay=0.0005, warmup_epochs=3.0, warmup_momentum=0.8, warmup_bias_lr=0.1, box=7.5, cls=0.5, dfl=1.5, pose=12.0, kobj=1.0, nbs=64, hsv_h=0.015, hsv_s=0.7, hsv_v=0.4, degrees=0.0, translate=0.1, scale=0.5, shear=0.0, perspective=0.0, flipud=0.0, fliplr=0.5, bgr=0.0, mosaic=1.0, mixup=0.0, copy_paste=0.0, copy_paste_mode=flip, auto_augment=randaugment, erasing=0.4, crop_fraction=1.0, cfg=None, tracker=botsort.yaml, save_dir=runs/classify/train4\n",
      "\u001b[34m\u001b[1mtrain:\u001b[0m /Users/hjalle/Desktop/Skola/Maskininlarning/projekt/datasets/train... found 778 images in 2 classes ✅ \n",
      "\u001b[34m\u001b[1mval:\u001b[0m /Users/hjalle/Desktop/Skola/Maskininlarning/projekt/datasets/val... found 194 images in 2 classes ✅ \n",
      "\u001b[34m\u001b[1mtest:\u001b[0m None...\n",
      "Overriding model.yaml nc=1000 with nc=2\n",
      "\n",
      "                   from  n    params  module                                       arguments                     \n",
      "  0                  -1  1       928  ultralytics.nn.modules.conv.Conv             [3, 32, 3, 2]                 \n",
      "  1                  -1  1     18560  ultralytics.nn.modules.conv.Conv             [32, 64, 3, 2]                \n",
      "  2                  -1  1     29056  ultralytics.nn.modules.block.C2f             [64, 64, 1, True]             \n",
      "  3                  -1  1     73984  ultralytics.nn.modules.conv.Conv             [64, 128, 3, 2]               \n",
      "  4                  -1  2    197632  ultralytics.nn.modules.block.C2f             [128, 128, 2, True]           \n",
      "  5                  -1  1    295424  ultralytics.nn.modules.conv.Conv             [128, 256, 3, 2]              \n",
      "  6                  -1  2    788480  ultralytics.nn.modules.block.C2f             [256, 256, 2, True]           \n",
      "  7                  -1  1   1180672  ultralytics.nn.modules.conv.Conv             [256, 512, 3, 2]              \n",
      "  8                  -1  1   1838080  ultralytics.nn.modules.block.C2f             [512, 512, 1, True]           \n",
      "  9                  -1  1    660482  ultralytics.nn.modules.head.Classify         [512, 2]                      \n",
      "YOLOv8s-cls summary: 56 layers, 5,083,298 parameters, 5,083,298 gradients, 12.6 GFLOPs\n",
      "Transferred 156/158 items from pretrained weights\n",
      "\u001b[34m\u001b[1mTensorBoard: \u001b[0mStart with 'tensorboard --logdir runs/classify/train4', view at http://localhost:6006/\n"
     ]
    },
    {
     "name": "stderr",
     "output_type": "stream",
     "text": [
      "\u001b[34m\u001b[1mtrain: \u001b[0mScanning /Users/hjalle/Desktop/Skola/Maskininlarning/projekt/datasets/train... 778 images, 0 corrupt: 100%|██████████| 778/778 [00:00<?, ?it/s]\n",
      "\u001b[34m\u001b[1mval: \u001b[0mScanning /Users/hjalle/Desktop/Skola/Maskininlarning/projekt/datasets/val... 194 images, 0 corrupt: 100%|██████████| 194/194 [00:00<?, ?it/s]"
     ]
    },
    {
     "name": "stdout",
     "output_type": "stream",
     "text": [
      "\u001b[34m\u001b[1moptimizer:\u001b[0m 'optimizer=auto' found, ignoring 'lr0=0.0005' and 'momentum=0.9' and determining best 'optimizer', 'lr0' and 'momentum' automatically... \n",
      "\u001b[34m\u001b[1moptimizer:\u001b[0m AdamW(lr=0.001667, momentum=0.9) with parameter groups 26 weight(decay=0.0), 27 weight(decay=0.0005), 27 bias(decay=0.0)\n"
     ]
    },
    {
     "name": "stderr",
     "output_type": "stream",
     "text": [
      "\n"
     ]
    },
    {
     "name": "stdout",
     "output_type": "stream",
     "text": [
      "\u001b[34m\u001b[1mTensorBoard: \u001b[0mmodel graph visualization added ✅\n",
      "Image sizes 256 train, 256 val\n",
      "Using 0 dataloader workers\n",
      "Logging results to \u001b[1mruns/classify/train4\u001b[0m\n",
      "Starting training for 30 epochs...\n",
      "\n",
      "      Epoch    GPU_mem       loss  Instances       Size\n"
     ]
    },
    {
     "name": "stderr",
     "output_type": "stream",
     "text": [
      "       1/30         0G     0.6727         16        256:  57%|█████▋    | 28/49 [00:40<00:29,  1.43s/it]libpng warning: iCCP: profile 'ICC Profile': 'CMYK': invalid ICC profile color space\n",
      "       1/30         0G     0.6165         10        256: 100%|██████████| 49/49 [01:09<00:00,  1.43s/it]\n",
      "               classes   top1_acc   top5_acc: 100%|██████████| 7/7 [00:11<00:00,  1.66s/it]"
     ]
    },
    {
     "name": "stdout",
     "output_type": "stream",
     "text": [
      "                   all       0.83          1\n",
      "\n",
      "      Epoch    GPU_mem       loss  Instances       Size\n"
     ]
    },
    {
     "name": "stderr",
     "output_type": "stream",
     "text": [
      "\n",
      "       2/30         0G     0.4264         16        256:  22%|██▏       | 11/49 [00:16<00:56,  1.48s/it]libpng warning: iCCP: profile 'ICC Profile': 'CMYK': invalid ICC profile color space\n",
      "       2/30         0G     0.4147         10        256: 100%|██████████| 49/49 [01:13<00:00,  1.51s/it]\n",
      "               classes   top1_acc   top5_acc: 100%|██████████| 7/7 [00:11<00:00,  1.58s/it]"
     ]
    },
    {
     "name": "stdout",
     "output_type": "stream",
     "text": [
      "                   all      0.845          1\n",
      "\n",
      "      Epoch    GPU_mem       loss  Instances       Size\n"
     ]
    },
    {
     "name": "stderr",
     "output_type": "stream",
     "text": [
      "\n",
      "       3/30         0G     0.3323         16        256:  61%|██████    | 30/49 [00:42<00:26,  1.42s/it]libpng warning: iCCP: profile 'ICC Profile': 'CMYK': invalid ICC profile color space\n",
      "       3/30         0G     0.3302         10        256: 100%|██████████| 49/49 [01:08<00:00,  1.40s/it]\n",
      "               classes   top1_acc   top5_acc: 100%|██████████| 7/7 [00:10<00:00,  1.54s/it]"
     ]
    },
    {
     "name": "stdout",
     "output_type": "stream",
     "text": [
      "                   all      0.794          1\n",
      "\n",
      "      Epoch    GPU_mem       loss  Instances       Size\n"
     ]
    },
    {
     "name": "stderr",
     "output_type": "stream",
     "text": [
      "\n",
      "       4/30         0G     0.3209         16        256:  39%|███▉      | 19/49 [00:26<00:43,  1.44s/it]libpng warning: iCCP: profile 'ICC Profile': 'CMYK': invalid ICC profile color space\n",
      "       4/30         0G     0.3273         10        256: 100%|██████████| 49/49 [01:07<00:00,  1.37s/it]\n",
      "               classes   top1_acc   top5_acc: 100%|██████████| 7/7 [00:10<00:00,  1.55s/it]"
     ]
    },
    {
     "name": "stdout",
     "output_type": "stream",
     "text": [
      "                   all      0.804          1\n",
      "\n",
      "      Epoch    GPU_mem       loss  Instances       Size\n"
     ]
    },
    {
     "name": "stderr",
     "output_type": "stream",
     "text": [
      "\n",
      "       5/30         0G     0.2836         16        256:  35%|███▍      | 17/49 [00:23<00:44,  1.40s/it]libpng warning: iCCP: profile 'ICC Profile': 'CMYK': invalid ICC profile color space\n",
      "       5/30         0G     0.3239         10        256: 100%|██████████| 49/49 [01:07<00:00,  1.38s/it]\n",
      "               classes   top1_acc   top5_acc: 100%|██████████| 7/7 [00:10<00:00,  1.55s/it]"
     ]
    },
    {
     "name": "stdout",
     "output_type": "stream",
     "text": [
      "                   all      0.758          1\n",
      "\n",
      "      Epoch    GPU_mem       loss  Instances       Size\n"
     ]
    },
    {
     "name": "stderr",
     "output_type": "stream",
     "text": [
      "\n",
      "       6/30         0G     0.2578         16        256:  39%|███▉      | 19/49 [00:26<00:42,  1.40s/it]libpng warning: iCCP: profile 'ICC Profile': 'CMYK': invalid ICC profile color space\n",
      "       6/30         0G       0.29         10        256: 100%|██████████| 49/49 [01:06<00:00,  1.35s/it]\n",
      "               classes   top1_acc   top5_acc: 100%|██████████| 7/7 [00:10<00:00,  1.56s/it]"
     ]
    },
    {
     "name": "stdout",
     "output_type": "stream",
     "text": [
      "                   all      0.778          1\n",
      "\n",
      "      Epoch    GPU_mem       loss  Instances       Size\n"
     ]
    },
    {
     "name": "stderr",
     "output_type": "stream",
     "text": [
      "\n",
      "       7/30         0G     0.2477         16        256:  96%|█████████▌| 47/49 [01:04<00:02,  1.38s/it]libpng warning: iCCP: profile 'ICC Profile': 'CMYK': invalid ICC profile color space\n",
      "       7/30         0G     0.2498         10        256: 100%|██████████| 49/49 [01:06<00:00,  1.35s/it]\n",
      "               classes   top1_acc   top5_acc: 100%|██████████| 7/7 [00:10<00:00,  1.53s/it]"
     ]
    },
    {
     "name": "stdout",
     "output_type": "stream",
     "text": [
      "                   all      0.753          1\n",
      "\n",
      "      Epoch    GPU_mem       loss  Instances       Size\n"
     ]
    },
    {
     "name": "stderr",
     "output_type": "stream",
     "text": [
      "\n",
      "       8/30         0G     0.1841         16        256:  82%|████████▏ | 40/49 [00:55<00:12,  1.35s/it]libpng warning: iCCP: profile 'ICC Profile': 'CMYK': invalid ICC profile color space\n",
      "       8/30         0G     0.2056         10        256: 100%|██████████| 49/49 [01:06<00:00,  1.37s/it]\n",
      "               classes   top1_acc   top5_acc: 100%|██████████| 7/7 [00:10<00:00,  1.54s/it]"
     ]
    },
    {
     "name": "stdout",
     "output_type": "stream",
     "text": [
      "                   all      0.768          1\n",
      "\n",
      "      Epoch    GPU_mem       loss  Instances       Size\n"
     ]
    },
    {
     "name": "stderr",
     "output_type": "stream",
     "text": [
      "\n",
      "       9/30         0G     0.1843         16        256:  14%|█▍        | 7/49 [00:10<01:02,  1.49s/it]libpng warning: iCCP: profile 'ICC Profile': 'CMYK': invalid ICC profile color space\n",
      "       9/30         0G     0.2012         10        256: 100%|██████████| 49/49 [01:07<00:00,  1.39s/it]\n",
      "               classes   top1_acc   top5_acc: 100%|██████████| 7/7 [00:10<00:00,  1.53s/it]"
     ]
    },
    {
     "name": "stdout",
     "output_type": "stream",
     "text": [
      "                   all      0.799          1\n",
      "\n",
      "      Epoch    GPU_mem       loss  Instances       Size\n"
     ]
    },
    {
     "name": "stderr",
     "output_type": "stream",
     "text": [
      "\n",
      "      10/30         0G     0.1831         16        256:  84%|████████▎ | 41/49 [00:57<00:10,  1.36s/it]libpng warning: iCCP: profile 'ICC Profile': 'CMYK': invalid ICC profile color space\n",
      "      10/30         0G     0.1862         10        256: 100%|██████████| 49/49 [01:07<00:00,  1.39s/it]\n",
      "               classes   top1_acc   top5_acc: 100%|██████████| 7/7 [00:10<00:00,  1.53s/it]"
     ]
    },
    {
     "name": "stdout",
     "output_type": "stream",
     "text": [
      "                   all      0.758          1\n",
      "\n",
      "      Epoch    GPU_mem       loss  Instances       Size\n"
     ]
    },
    {
     "name": "stderr",
     "output_type": "stream",
     "text": [
      "\n",
      "      11/30         0G     0.1644         16        256:  84%|████████▎ | 41/49 [00:55<00:10,  1.32s/it]libpng warning: iCCP: profile 'ICC Profile': 'CMYK': invalid ICC profile color space\n",
      "      11/30         0G     0.1818         10        256: 100%|██████████| 49/49 [01:04<00:00,  1.33s/it]\n",
      "               classes   top1_acc   top5_acc: 100%|██████████| 7/7 [00:10<00:00,  1.55s/it]"
     ]
    },
    {
     "name": "stdout",
     "output_type": "stream",
     "text": [
      "                   all      0.809          1\n",
      "\n",
      "      Epoch    GPU_mem       loss  Instances       Size\n"
     ]
    },
    {
     "name": "stderr",
     "output_type": "stream",
     "text": [
      "\n",
      "      12/30         0G     0.1619         16        256:  27%|██▋       | 13/49 [00:17<00:47,  1.32s/it]libpng warning: iCCP: profile 'ICC Profile': 'CMYK': invalid ICC profile color space\n",
      "      12/30         0G     0.1398         10        256: 100%|██████████| 49/49 [01:05<00:00,  1.34s/it]\n",
      "               classes   top1_acc   top5_acc: 100%|██████████| 7/7 [00:11<00:00,  1.58s/it]"
     ]
    },
    {
     "name": "stdout",
     "output_type": "stream",
     "text": [
      "                   all      0.799          1\n"
     ]
    },
    {
     "name": "stderr",
     "output_type": "stream",
     "text": [
      "\n"
     ]
    },
    {
     "name": "stdout",
     "output_type": "stream",
     "text": [
      "\n",
      "      Epoch    GPU_mem       loss  Instances       Size\n"
     ]
    },
    {
     "name": "stderr",
     "output_type": "stream",
     "text": [
      "      13/30         0G    0.02597         16        256:   2%|▏         | 1/49 [00:01<01:05,  1.37s/it]libpng warning: iCCP: profile 'ICC Profile': 'CMYK': invalid ICC profile color space\n",
      "      13/30         0G     0.1238         10        256: 100%|██████████| 49/49 [01:04<00:00,  1.31s/it]\n",
      "               classes   top1_acc   top5_acc: 100%|██████████| 7/7 [00:10<00:00,  1.51s/it]"
     ]
    },
    {
     "name": "stdout",
     "output_type": "stream",
     "text": [
      "                   all       0.82          1\n",
      "\n",
      "      Epoch    GPU_mem       loss  Instances       Size\n"
     ]
    },
    {
     "name": "stderr",
     "output_type": "stream",
     "text": [
      "\n",
      "      14/30         0G     0.1608         16        256:  59%|█████▉    | 29/49 [00:39<00:27,  1.37s/it]libpng warning: iCCP: profile 'ICC Profile': 'CMYK': invalid ICC profile color space\n",
      "      14/30         0G     0.1416         10        256: 100%|██████████| 49/49 [01:07<00:00,  1.37s/it]\n",
      "               classes   top1_acc   top5_acc: 100%|██████████| 7/7 [00:11<00:00,  1.63s/it]"
     ]
    },
    {
     "name": "stdout",
     "output_type": "stream",
     "text": [
      "                   all      0.763          1\n",
      "\n",
      "      Epoch    GPU_mem       loss  Instances       Size\n"
     ]
    },
    {
     "name": "stderr",
     "output_type": "stream",
     "text": [
      "\n",
      "      15/30         0G     0.1037         16        256:  80%|███████▉  | 39/49 [00:54<00:14,  1.43s/it]libpng warning: iCCP: profile 'ICC Profile': 'CMYK': invalid ICC profile color space\n",
      "      15/30         0G     0.1093         10        256: 100%|██████████| 49/49 [01:07<00:00,  1.38s/it]\n",
      "               classes   top1_acc   top5_acc: 100%|██████████| 7/7 [00:11<00:00,  1.58s/it]"
     ]
    },
    {
     "name": "stdout",
     "output_type": "stream",
     "text": [
      "                   all      0.768          1\n",
      "\n",
      "      Epoch    GPU_mem       loss  Instances       Size\n"
     ]
    },
    {
     "name": "stderr",
     "output_type": "stream",
     "text": [
      "\n",
      "      16/30         0G     0.1571         16        256:  29%|██▊       | 14/49 [00:19<00:47,  1.35s/it]libpng warning: iCCP: profile 'ICC Profile': 'CMYK': invalid ICC profile color space\n",
      "      16/30         0G     0.1281         10        256: 100%|██████████| 49/49 [01:08<00:00,  1.40s/it]\n",
      "               classes   top1_acc   top5_acc: 100%|██████████| 7/7 [00:10<00:00,  1.54s/it]"
     ]
    },
    {
     "name": "stdout",
     "output_type": "stream",
     "text": [
      "                   all      0.794          1\n",
      "\n",
      "      Epoch    GPU_mem       loss  Instances       Size\n"
     ]
    },
    {
     "name": "stderr",
     "output_type": "stream",
     "text": [
      "\n",
      "      17/30         0G     0.1008         16        256:  24%|██▍       | 12/49 [00:16<00:52,  1.41s/it]libpng warning: iCCP: profile 'ICC Profile': 'CMYK': invalid ICC profile color space\n",
      "      17/30         0G     0.1153         10        256: 100%|██████████| 49/49 [01:08<00:00,  1.40s/it]\n",
      "               classes   top1_acc   top5_acc: 100%|██████████| 7/7 [00:10<00:00,  1.56s/it]"
     ]
    },
    {
     "name": "stdout",
     "output_type": "stream",
     "text": [
      "                   all      0.814          1\n",
      "\n",
      "      Epoch    GPU_mem       loss  Instances       Size\n"
     ]
    },
    {
     "name": "stderr",
     "output_type": "stream",
     "text": [
      "\n",
      "      18/30         0G    0.05476         16        256:  31%|███       | 15/49 [00:21<00:46,  1.37s/it]libpng warning: iCCP: profile 'ICC Profile': 'CMYK': invalid ICC profile color space\n",
      "      18/30         0G    0.07026         10        256: 100%|██████████| 49/49 [01:09<00:00,  1.42s/it]\n",
      "               classes   top1_acc   top5_acc: 100%|██████████| 7/7 [00:11<00:00,  1.64s/it]"
     ]
    },
    {
     "name": "stdout",
     "output_type": "stream",
     "text": [
      "                   all      0.794          1\n",
      "\n",
      "      Epoch    GPU_mem       loss  Instances       Size\n"
     ]
    },
    {
     "name": "stderr",
     "output_type": "stream",
     "text": [
      "\n",
      "      19/30         0G    0.07929         16        256:  96%|█████████▌| 47/49 [01:05<00:02,  1.34s/it]libpng warning: iCCP: profile 'ICC Profile': 'CMYK': invalid ICC profile color space\n",
      "      19/30         0G    0.07868         10        256: 100%|██████████| 49/49 [01:07<00:00,  1.37s/it]\n",
      "               classes   top1_acc   top5_acc: 100%|██████████| 7/7 [00:10<00:00,  1.53s/it]"
     ]
    },
    {
     "name": "stdout",
     "output_type": "stream",
     "text": [
      "                   all      0.825          1\n",
      "\n",
      "      Epoch    GPU_mem       loss  Instances       Size\n"
     ]
    },
    {
     "name": "stderr",
     "output_type": "stream",
     "text": [
      "\n",
      "      20/30         0G    0.06558         16        256:  78%|███████▊  | 38/49 [00:53<00:15,  1.38s/it]libpng warning: iCCP: profile 'ICC Profile': 'CMYK': invalid ICC profile color space\n",
      "      20/30         0G    0.06742         10        256: 100%|██████████| 49/49 [01:07<00:00,  1.38s/it]\n",
      "               classes   top1_acc   top5_acc: 100%|██████████| 7/7 [00:10<00:00,  1.57s/it]"
     ]
    },
    {
     "name": "stdout",
     "output_type": "stream",
     "text": [
      "                   all       0.82          1\n",
      "\n",
      "      Epoch    GPU_mem       loss  Instances       Size\n"
     ]
    },
    {
     "name": "stderr",
     "output_type": "stream",
     "text": [
      "\n",
      "      21/30         0G    0.05873         16        256:  88%|████████▊ | 43/49 [00:57<00:08,  1.35s/it]libpng warning: iCCP: profile 'ICC Profile': 'CMYK': invalid ICC profile color space\n",
      "      21/30         0G    0.06611         10        256: 100%|██████████| 49/49 [01:04<00:00,  1.32s/it]\n",
      "               classes   top1_acc   top5_acc: 100%|██████████| 7/7 [00:10<00:00,  1.52s/it]"
     ]
    },
    {
     "name": "stdout",
     "output_type": "stream",
     "text": [
      "                   all      0.809          1\n",
      "\n",
      "      Epoch    GPU_mem       loss  Instances       Size\n"
     ]
    },
    {
     "name": "stderr",
     "output_type": "stream",
     "text": [
      "\n",
      "      22/30         0G    0.06982         16        256:  22%|██▏       | 11/49 [00:15<00:51,  1.35s/it]libpng warning: iCCP: profile 'ICC Profile': 'CMYK': invalid ICC profile color space\n",
      "      22/30         0G    0.07265         10        256: 100%|██████████| 49/49 [01:06<00:00,  1.36s/it]\n",
      "               classes   top1_acc   top5_acc: 100%|██████████| 7/7 [00:11<00:00,  1.59s/it]"
     ]
    },
    {
     "name": "stdout",
     "output_type": "stream",
     "text": [
      "                   all       0.82          1\n",
      "\n",
      "      Epoch    GPU_mem       loss  Instances       Size\n"
     ]
    },
    {
     "name": "stderr",
     "output_type": "stream",
     "text": [
      "\n",
      "  0%|          | 0/49 [00:00<?, ?it/s]libpng warning: iCCP: profile 'ICC Profile': 'CMYK': invalid ICC profile color space\n",
      "      23/30         0G    0.05651         10        256: 100%|██████████| 49/49 [01:07<00:00,  1.39s/it]\n",
      "               classes   top1_acc   top5_acc: 100%|██████████| 7/7 [00:10<00:00,  1.55s/it]"
     ]
    },
    {
     "name": "stdout",
     "output_type": "stream",
     "text": [
      "                   all       0.83          1\n"
     ]
    },
    {
     "name": "stderr",
     "output_type": "stream",
     "text": [
      "\n"
     ]
    },
    {
     "name": "stdout",
     "output_type": "stream",
     "text": [
      "\n",
      "      Epoch    GPU_mem       loss  Instances       Size\n"
     ]
    },
    {
     "name": "stderr",
     "output_type": "stream",
     "text": [
      "      24/30         0G    0.05544         16        256:  90%|████████▉ | 44/49 [01:04<00:07,  1.47s/it]libpng warning: iCCP: profile 'ICC Profile': 'CMYK': invalid ICC profile color space\n",
      "      24/30         0G    0.06077         10        256: 100%|██████████| 49/49 [01:10<00:00,  1.44s/it]\n",
      "               classes   top1_acc   top5_acc: 100%|██████████| 7/7 [00:11<00:00,  1.65s/it]"
     ]
    },
    {
     "name": "stdout",
     "output_type": "stream",
     "text": [
      "                   all      0.809          1\n",
      "\n",
      "      Epoch    GPU_mem       loss  Instances       Size\n"
     ]
    },
    {
     "name": "stderr",
     "output_type": "stream",
     "text": [
      "\n",
      "      25/30         0G    0.04636         16        256:  76%|███████▌  | 37/49 [00:50<00:16,  1.36s/it]libpng warning: iCCP: profile 'ICC Profile': 'CMYK': invalid ICC profile color space\n",
      "      25/30         0G    0.04509         10        256: 100%|██████████| 49/49 [01:05<00:00,  1.34s/it]\n",
      "               classes   top1_acc   top5_acc: 100%|██████████| 7/7 [00:10<00:00,  1.54s/it]"
     ]
    },
    {
     "name": "stdout",
     "output_type": "stream",
     "text": [
      "                   all      0.835          1\n",
      "\n",
      "      Epoch    GPU_mem       loss  Instances       Size\n"
     ]
    },
    {
     "name": "stderr",
     "output_type": "stream",
     "text": [
      "\n",
      "      26/30         0G    0.04528         16        256:  57%|█████▋    | 28/49 [00:39<00:30,  1.47s/it]libpng warning: iCCP: profile 'ICC Profile': 'CMYK': invalid ICC profile color space\n",
      "      26/30         0G    0.04664         10        256: 100%|██████████| 49/49 [01:09<00:00,  1.42s/it]\n",
      "               classes   top1_acc   top5_acc: 100%|██████████| 7/7 [00:11<00:00,  1.61s/it]"
     ]
    },
    {
     "name": "stdout",
     "output_type": "stream",
     "text": [
      "                   all      0.825          1\n",
      "\n",
      "      Epoch    GPU_mem       loss  Instances       Size\n"
     ]
    },
    {
     "name": "stderr",
     "output_type": "stream",
     "text": [
      "\n",
      "      27/30         0G    0.03147         16        256:  10%|█         | 5/49 [00:07<01:02,  1.43s/it]libpng warning: iCCP: profile 'ICC Profile': 'CMYK': invalid ICC profile color space\n",
      "      27/30         0G    0.06136         10        256: 100%|██████████| 49/49 [01:05<00:00,  1.34s/it]\n",
      "               classes   top1_acc   top5_acc: 100%|██████████| 7/7 [00:10<00:00,  1.54s/it]"
     ]
    },
    {
     "name": "stdout",
     "output_type": "stream",
     "text": [
      "                   all       0.82          1\n",
      "\n",
      "      Epoch    GPU_mem       loss  Instances       Size\n"
     ]
    },
    {
     "name": "stderr",
     "output_type": "stream",
     "text": [
      "\n",
      "      28/30         0G     0.0457         16        256:   4%|▍         | 2/49 [00:02<01:10,  1.50s/it]libpng warning: iCCP: profile 'ICC Profile': 'CMYK': invalid ICC profile color space\n",
      "      28/30         0G    0.04091         10        256: 100%|██████████| 49/49 [01:05<00:00,  1.34s/it]\n",
      "               classes   top1_acc   top5_acc: 100%|██████████| 7/7 [00:11<00:00,  1.63s/it]"
     ]
    },
    {
     "name": "stdout",
     "output_type": "stream",
     "text": [
      "                   all      0.814          1\n",
      "\n",
      "      Epoch    GPU_mem       loss  Instances       Size\n"
     ]
    },
    {
     "name": "stderr",
     "output_type": "stream",
     "text": [
      "\n",
      "      29/30         0G    0.03622         16        256:  43%|████▎     | 21/49 [00:30<00:39,  1.41s/it]libpng warning: iCCP: profile 'ICC Profile': 'CMYK': invalid ICC profile color space\n",
      "      29/30         0G    0.03785         10        256: 100%|██████████| 49/49 [01:07<00:00,  1.38s/it]\n",
      "               classes   top1_acc   top5_acc: 100%|██████████| 7/7 [00:10<00:00,  1.52s/it]"
     ]
    },
    {
     "name": "stdout",
     "output_type": "stream",
     "text": [
      "                   all      0.835          1\n",
      "\n",
      "      Epoch    GPU_mem       loss  Instances       Size\n"
     ]
    },
    {
     "name": "stderr",
     "output_type": "stream",
     "text": [
      "\n",
      "      30/30         0G    0.02987         16        256:  69%|██████▉   | 34/49 [00:47<00:19,  1.32s/it]libpng warning: iCCP: profile 'ICC Profile': 'CMYK': invalid ICC profile color space\n",
      "      30/30         0G    0.02927         10        256: 100%|██████████| 49/49 [01:06<00:00,  1.36s/it]\n",
      "               classes   top1_acc   top5_acc: 100%|██████████| 7/7 [00:10<00:00,  1.54s/it]"
     ]
    },
    {
     "name": "stdout",
     "output_type": "stream",
     "text": [
      "                   all       0.83          1\n",
      "\n",
      "30 epochs completed in 0.654 hours.\n",
      "Optimizer stripped from runs/classify/train4/weights/last.pt, 10.3MB\n"
     ]
    },
    {
     "name": "stderr",
     "output_type": "stream",
     "text": [
      "\n"
     ]
    },
    {
     "name": "stdout",
     "output_type": "stream",
     "text": [
      "Optimizer stripped from runs/classify/train4/weights/best.pt, 10.3MB\n",
      "\n",
      "Validating runs/classify/train4/weights/best.pt...\n",
      "Ultralytics 8.3.87 🚀 Python-3.11.6 torch-2.6.0 CPU (Apple M1 Pro)\n",
      "YOLOv8s-cls summary (fused): 30 layers, 5,077,762 parameters, 0 gradients, 12.4 GFLOPs\n",
      "\u001b[34m\u001b[1mtrain:\u001b[0m /Users/hjalle/Desktop/Skola/Maskininlarning/projekt/datasets/train... found 778 images in 2 classes ✅ \n",
      "\u001b[34m\u001b[1mval:\u001b[0m /Users/hjalle/Desktop/Skola/Maskininlarning/projekt/datasets/val... found 194 images in 2 classes ✅ \n",
      "\u001b[34m\u001b[1mtest:\u001b[0m None...\n"
     ]
    },
    {
     "name": "stderr",
     "output_type": "stream",
     "text": [
      "               classes   top1_acc   top5_acc: 100%|██████████| 7/7 [00:10<00:00,  1.51s/it]\n"
     ]
    },
    {
     "name": "stdout",
     "output_type": "stream",
     "text": [
      "                   all      0.845          1\n",
      "Speed: 0.0ms preprocess, 32.8ms inference, 0.0ms loss, 0.0ms postprocess per image\n",
      "Results saved to \u001b[1mruns/classify/train4\u001b[0m\n"
     ]
    },
    {
     "data": {
      "text/plain": [
       "ultralytics.utils.metrics.ClassifyMetrics object with attributes:\n",
       "\n",
       "confusion_matrix: <ultralytics.utils.metrics.ConfusionMatrix object at 0x35129d850>\n",
       "curves: []\n",
       "curves_results: []\n",
       "fitness: 0.9226804077625275\n",
       "keys: ['metrics/accuracy_top1', 'metrics/accuracy_top5']\n",
       "results_dict: {'metrics/accuracy_top1': 0.8453608155250549, 'metrics/accuracy_top5': 1.0, 'fitness': 0.9226804077625275}\n",
       "save_dir: PosixPath('runs/classify/train4')\n",
       "speed: {'preprocess': 0.00031186344543683163, 'inference': 32.752274266760985, 'loss': 1.9533770907785474e-05, 'postprocess': 5.7357949079926485e-05}\n",
       "task: 'classify'\n",
       "top1: 0.8453608155250549\n",
       "top5: 1.0"
      ]
     },
     "execution_count": 107,
     "metadata": {},
     "output_type": "execute_result"
    }
   ],
   "source": [
    "from ultralytics import YOLO\n",
    "import torch\n",
    "\n",
    "#yolov8n-cls.pt\n",
    "\n",
    "model = YOLO(\"yolov8s-cls.pt\")\n",
    "\n",
    "model.train(\n",
    "    data=\"/Users/hjalle/Desktop/Skola/Maskininlarning/projekt/datasets/\",\n",
    "    epochs=30,\n",
    "    batch=16,\n",
    "    imgsz=256,\n",
    "    device=\"cpu\",\n",
    "    save=True, \n",
    "    val=True,\n",
    "    verbose=True, \n",
    "    lr0=0.0005,  # Lower learning rate for transfer learning\n",
    "    momentum=0.9,\n",
    "    weight_decay=0.0005\n",
    ")\n"
   ]
  },
  {
   "cell_type": "code",
   "execution_count": 108,
   "metadata": {},
   "outputs": [
    {
     "name": "stdout",
     "output_type": "stream",
     "text": [
      "Ultralytics 8.3.87 🚀 Python-3.11.6 torch-2.6.0 CPU (Apple M1 Pro)\n",
      "YOLOv8s-cls summary (fused): 30 layers, 5,077,762 parameters, 0 gradients, 12.4 GFLOPs\n",
      "\u001b[34m\u001b[1mtrain:\u001b[0m /Users/hjalle/Desktop/Skola/Maskininlarning/projekt/datasets/train... found 778 images in 2 classes ✅ \n",
      "\u001b[34m\u001b[1mval:\u001b[0m /Users/hjalle/Desktop/Skola/Maskininlarning/projekt/datasets/val... found 194 images in 2 classes ✅ \n",
      "\u001b[34m\u001b[1mtest:\u001b[0m None...\n"
     ]
    },
    {
     "name": "stderr",
     "output_type": "stream",
     "text": [
      "\u001b[34m\u001b[1mval: \u001b[0mScanning /Users/hjalle/Desktop/Skola/Maskininlarning/projekt/datasets/val... 194 images, 0 corrupt: 100%|██████████| 194/194 [00:00<?, ?it/s]\n",
      "               classes   top1_acc   top5_acc: 100%|██████████| 13/13 [00:12<00:00,  1.08it/s]\n"
     ]
    },
    {
     "name": "stdout",
     "output_type": "stream",
     "text": [
      "                   all      0.845          1\n",
      "Speed: 0.0ms preprocess, 39.1ms inference, 0.0ms loss, 0.0ms postprocess per image\n",
      "Results saved to \u001b[1mruns/classify/train42\u001b[0m\n",
      "Validation Accuracy (Top-1): 0.8453608155250549\n",
      "ultralytics.utils.metrics.ClassifyMetrics object with attributes:\n",
      "\n",
      "confusion_matrix: <ultralytics.utils.metrics.ConfusionMatrix object at 0x3cb71c950>\n",
      "curves: []\n",
      "curves_results: []\n",
      "fitness: 0.9226804077625275\n",
      "keys: ['metrics/accuracy_top1', 'metrics/accuracy_top5']\n",
      "results_dict: {'metrics/accuracy_top1': 0.8453608155250549, 'metrics/accuracy_top5': 1.0, 'fitness': 0.9226804077625275}\n",
      "save_dir: PosixPath('runs/classify/train42')\n",
      "speed: {'preprocess': 0.0005446556840360779, 'inference': 39.115451909985744, 'loss': 4.5966049752284574e-05, 'postprocess': 0.00016000985945622946}\n",
      "task: 'classify'\n",
      "top1: 0.8453608155250549\n",
      "top5: 1.0\n"
     ]
    }
   ],
   "source": [
    "import pandas as pd\n",
    "\n",
    "# Run validation\n",
    "metrics = model.val()\n",
    "print(f\"Validation Accuracy (Top-1): {metrics.top1}\")\n",
    "print(metrics)\n"
   ]
  },
  {
   "cell_type": "code",
   "execution_count": 110,
   "metadata": {},
   "outputs": [],
   "source": [
    "metrics.confusion_matrix.plot()\n"
   ]
  },
  {
   "cell_type": "code",
   "execution_count": 109,
   "metadata": {},
   "outputs": [
    {
     "data": {
      "text/plain": [
       "<Figure size 1000x500 with 1 Axes>"
      ]
     },
     "metadata": {},
     "output_type": "display_data"
    }
   ],
   "source": [
    "import pandas as pd\n",
    "import matplotlib.pyplot as plt\n",
    "\n",
    "# Load training log\n",
    "csv_path = \"runs/classify/train4/results.csv\"  # Update with your latest training run\n",
    "df = pd.read_csv(csv_path)\n",
    "\n",
    "# Create the plot\n",
    "plt.figure(figsize=(10, 5))\n",
    "\n",
    "# Plot Validation Accuracy\n",
    "plt.plot(df[\"epoch\"], df[\"metrics/accuracy_top1\"], label=\"Validation Accuracy\", marker=\"o\", color=\"blue\")\n",
    "best_train_acc_epoch = df[\"metrics/accuracy_top1\"].idxmax()\n",
    "plt.scatter(df[\"epoch\"][best_train_acc_epoch], df[\"metrics/accuracy_top1\"][best_train_acc_epoch], color=\"blue\", zorder=3)\n",
    "plt.text(df[\"epoch\"][best_train_acc_epoch], df[\"metrics/accuracy_top1\"][best_train_acc_epoch],\n",
    "         f'{df[\"metrics/accuracy_top1\"][best_train_acc_epoch]:.2f}', fontsize=10, verticalalignment='bottom')\n",
    "\n",
    "\n",
    "# Plot Training Loss\n",
    "plt.plot(df[\"epoch\"], df[\"train/loss\"], label=\"Training Loss\", marker=\"s\", color=\"red\")\n",
    "lowest_train_loss_epoch = df[\"train/loss\"].idxmin()\n",
    "plt.scatter(df[\"epoch\"][lowest_train_loss_epoch], df[\"train/loss\"][lowest_train_loss_epoch], color=\"red\", zorder=3)\n",
    "plt.text(df[\"epoch\"][lowest_train_loss_epoch], df[\"train/loss\"][lowest_train_loss_epoch],\n",
    "         f'{df[\"train/loss\"][lowest_train_loss_epoch]:.4f}', fontsize=10, verticalalignment='top')\n",
    "\n",
    "# Plot Validation Loss\n",
    "plt.plot(df[\"epoch\"], df[\"val/loss\"], label=\"Validation Loss\", marker=\"^\", color=\"green\")\n",
    "lowest_val_loss_epoch = df[\"val/loss\"].idxmin()\n",
    "plt.scatter(df[\"epoch\"][lowest_val_loss_epoch], df[\"val/loss\"][lowest_val_loss_epoch], color=\"green\", zorder=3)\n",
    "plt.text(df[\"epoch\"][lowest_val_loss_epoch], df[\"val/loss\"][lowest_val_loss_epoch],\n",
    "         f'{df[\"val/loss\"][lowest_val_loss_epoch]:.4f}', fontsize=10, verticalalignment='top')\n",
    "\n",
    "# Labels and title\n",
    "plt.xlabel(\"Epoch\")\n",
    "plt.ylabel(\"Value\")\n",
    "plt.title(\"Validation Accuracy, Training Loss, and Validation Loss\")\n",
    "plt.legend()\n",
    "plt.grid()\n",
    "\n",
    "# Save the plot as an image\n",
    "plt.savefig(\"plot4.png\", dpi=300)\n",
    "\n",
    "# Show the plot\n",
    "plt.show()\n"
   ]
  },
  {
   "cell_type": "code",
   "execution_count": 116,
   "metadata": {},
   "outputs": [
    {
     "name": "stdout",
     "output_type": "stream",
     "text": [
      "\n",
      "image 1/1 /Users/hjalle/Desktop/Skola/Maskininlarning/projekt/datasets/train/Ai/5d395cf1e10ca-ai-transforms-celebrities-photo-into-old-portraits-paintings-5d380c3722b84__700.jpg: 256x256 Ai 1.00, Real 0.00, 22.7ms\n",
      "Speed: 34.4ms preprocess, 22.7ms inference, 0.0ms postprocess per image at shape (1, 3, 256, 256)\n",
      "0\n"
     ]
    }
   ],
   "source": [
    "# Load the trained model\n",
    "model = YOLO(\"runs/classify/train2_first_run/weights/best.pt\")  # Replace with your path\n",
    "\n",
    "# Perform inference on an image\n",
    "#results = model(\"/Users/hjalle/Desktop/Screenshot 2024-07-19 at 18.55.15.png\")\n",
    "#results = model(\"/Users/hjalle/Desktop/glassofwine.jpg\")\n",
    "results = model(\"/Users/hjalle/Desktop/Skola/Maskininlarning/projekt/datasets/train/Ai/5d395cf1e10ca-ai-transforms-celebrities-photo-into-old-portraits-paintings-5d380c3722b84__700.jpg\")\n",
    "\n",
    "# Print the predicted class\n",
    "print(results[0].probs.top1)  # Top-1 predicted class\n"
   ]
  },
  {
   "cell_type": "code",
   "execution_count": 118,
   "metadata": {},
   "outputs": [
    {
     "name": "stdout",
     "output_type": "stream",
     "text": [
      "{0: 'Ai', 1: 'Real'}\n"
     ]
    }
   ],
   "source": [
    "print(model.names)\n"
   ]
  }
 ],
 "metadata": {
  "kernelspec": {
   "display_name": "venv",
   "language": "python",
   "name": "python3"
  },
  "language_info": {
   "codemirror_mode": {
    "name": "ipython",
    "version": 3
   },
   "file_extension": ".py",
   "mimetype": "text/x-python",
   "name": "python",
   "nbconvert_exporter": "python",
   "pygments_lexer": "ipython3",
   "version": "3.11.6"
  },
  "orig_nbformat": 4
 },
 "nbformat": 4,
 "nbformat_minor": 2
}
